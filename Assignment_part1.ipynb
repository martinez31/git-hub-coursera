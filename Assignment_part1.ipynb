{
 "cells": [
  {
   "cell_type": "markdown",
   "metadata": {},
   "source": [
    "<h1> <center>Toulouse Vs Seattle </center></h1>\n",
    "\n",
    "\n",
    "\n",
    "\n",
    "Stéphane MARTINEZ  \n",
    "April 18th 2019\n",
    "\n",
    "\n",
    "\n",
    "\n",
    "### Coursera Applied Data Science Capstone Assignment\n",
    "\n",
    "***\n",
    "***\n"
   ]
  },
  {
   "cell_type": "markdown",
   "metadata": {},
   "source": [
    "## 1. Description of the problem and discussion of the background"
   ]
  },
  {
   "cell_type": "markdown",
   "metadata": {},
   "source": [
    "Airbus and Boeing are the two leader of the commercial aircraft industry. Each one is sharing about 50% of the this market.   \n",
    "\n",
    "<img src = \"sales.jpg\" width = 800>  \n",
    "\n",
    "Both competitors are fighting to be the One, designing and delivering the best aircraft regarding market acceptance. Aeronautics Industry is more than these two companies. A dense network of subcontractors has grown to leverage and support the industry.\n",
    "\n",
    "<img src = \"boeing-vs-airbus.jpg\" width = 800>    \n",
    "\n",
    "Boeing biggest factory is based at Seattle (USA):   \n",
    "<img src = \"seattle.jpg\" width = 800> \n",
    "\n",
    "\n",
    "Airbus' one in Toulouse (France). \n",
    "<img src = \"toulouse.jpg\" width = 800> \n",
    "\n",
    "It will be interesting to compare the two cities, located on two distinct continents, to see if they have similar characteristics, and if the long distance in between can be compensated by the  major industry that live there.\n",
    "***"
   ]
  },
  {
   "cell_type": "markdown",
   "metadata": {},
   "source": [
    "## 2. Description of the data and how it will be used to solve the problem"
   ]
  },
  {
   "cell_type": "markdown",
   "metadata": {},
   "source": [
    "To consider the problem we can list the data as below:  \n",
    " - First, we can find detailed information on cities neighborhoods from wikipedia, for Seattle (https://en.wikipedia.org/wiki/List_of_neighborhoods_in_Seattle) and for Toulouse (https://fr.wikipedia.org/wiki/Quartiers_de_Toulouse).   \n",
    " - Then we can use GeoPy (https://geopy.readthedocs.io/en/stable/) to localize these neighborhoods.\n",
    " - The foursquare API (https://developer.foursquare.com/) can be used to gather venues informations.  \n",
    " \n",
    "All these information can be processed to analyze the two cities and to see if they sharing to the same structure or not.\n",
    "\n",
    "***\n",
    "***\n",
    "\n"
   ]
  }
 ],
 "metadata": {
  "kernelspec": {
   "display_name": "Python 3",
   "language": "python",
   "name": "python3"
  },
  "language_info": {
   "codemirror_mode": {
    "name": "ipython",
    "version": 3
   },
   "file_extension": ".py",
   "mimetype": "text/x-python",
   "name": "python",
   "nbconvert_exporter": "python",
   "pygments_lexer": "ipython3",
   "version": "3.6.8"
  }
 },
 "nbformat": 4,
 "nbformat_minor": 2
}
